{
 "cells": [
  {
   "cell_type": "markdown",
   "id": "55a0db30",
   "metadata": {},
   "source": [
    "Question-1:"
   ]
  },
  {
   "cell_type": "markdown",
   "id": "9565d30b",
   "metadata": {},
   "source": [
    "1.  (*)      = Expresssion (Multiplication)\n",
    "2.   'Hello' = Value (String)\n",
    "3.   -87.8   = Value (Float)\n",
    "4.  (-)      = Expression (Subtraction)\n",
    "5.  (/)      = Expression (Divide)\n",
    "5.  (+)      = Expression (Addition)\n",
    "7.    6      = Value (Int)\n"
   ]
  },
  {
   "cell_type": "markdown",
   "id": "9ecf8da4",
   "metadata": {},
   "source": [
    "Question-2:\n"
   ]
  },
  {
   "cell_type": "markdown",
   "id": "bc7b4ff4",
   "metadata": {},
   "source": [
    "1. String:-\n",
    "String is a datatype which represents sequence of characters.\n",
    "2. Variable:\n",
    "A variable is a named storage location that holds a value of a particular data type.\n"
   ]
  },
  {
   "cell_type": "markdown",
   "id": "46887505",
   "metadata": {},
   "source": [
    "Question-3:\n",
    "    "
   ]
  },
  {
   "cell_type": "markdown",
   "id": "9f32965e",
   "metadata": {},
   "source": [
    "1. Float:-\n",
    "Float stands for floating point numbers. These are the datatypes used to representing decimal numbers.\n",
    "2. Boolean:-\n",
    "Boolean is a data type that represents one of two possible values: true or false. Booleans are used to express logical conditions and control the flow of a program.They are particularly useful in conditional statements and loops.\n",
    "3. Integer:-\n",
    "Integer is a data type used to represent whole numbers, both positive and negative, without any fractional or decimal part.Integers can be used to perform arithmetic operations and store numerical values."
   ]
  },
  {
   "cell_type": "markdown",
   "id": "63b1b7f2",
   "metadata": {},
   "source": [
    "Question-4:"
   ]
  },
  {
   "cell_type": "markdown",
   "id": "c47363b9",
   "metadata": {},
   "source": [
    " An expression is a combination of one or more values, variables, operators, and function calls that evaluates to a single value. Expressions can perform various operations such as arithmetic calculations, logical evaluations, string concatenation, and more."
   ]
  },
  {
   "cell_type": "markdown",
   "id": "b8682d8b",
   "metadata": {},
   "source": [
    "Question-5:"
   ]
  },
  {
   "cell_type": "markdown",
   "id": "5417446b",
   "metadata": {},
   "source": [
    "1. Expressions:\n",
    "An expression is a combination of values, variables, operators, and function calls that evaluates to a single value.\n",
    "2. Statement:\n",
    "A statement is a complete unit of code that performs a specific action."
   ]
  },
  {
   "cell_type": "markdown",
   "id": "78fac722",
   "metadata": {},
   "source": [
    "Question-6:"
   ]
  },
  {
   "cell_type": "markdown",
   "id": "7362adb7",
   "metadata": {},
   "source": [
    "Since the code doesn't assign the result of bacon + 1 to any variable, the value of bacon remains unchanged at 22."
   ]
  },
  {
   "cell_type": "markdown",
   "id": "3ce2c063",
   "metadata": {},
   "source": [
    "Question-7:"
   ]
  },
  {
   "cell_type": "markdown",
   "id": "76337d0a",
   "metadata": {},
   "source": [
    "The value of both terms are-\n",
    "'SpamSpamSpam'"
   ]
  },
  {
   "cell_type": "markdown",
   "id": "dfcf6534",
   "metadata": {},
   "source": [
    "Question-8:"
   ]
  },
  {
   "cell_type": "markdown",
   "id": "bf371806",
   "metadata": {},
   "source": [
    "eggs is a valid variable name because it starts with a letter ('e') and only contains letters. It follows the rules for variable names.\n",
    "\n",
    "100 is an invalid variable name because it starts with a number. Variable names must begin with a letter or an underscore, not a number."
   ]
  },
  {
   "cell_type": "markdown",
   "id": "3b21c421",
   "metadata": {},
   "source": [
    "Question-9:"
   ]
  },
  {
   "cell_type": "markdown",
   "id": "bd73a2d2",
   "metadata": {},
   "source": [
    "1. int()\n",
    "2. float()\n",
    "3. Str()"
   ]
  },
  {
   "cell_type": "markdown",
   "id": "9a316ebe",
   "metadata": {},
   "source": [
    "Question-10:"
   ]
  },
  {
   "cell_type": "markdown",
   "id": "378170fe",
   "metadata": {},
   "source": [
    "Strings and int cannot be concatinated. I can fix this error by type conversion of int datatype(99) into string datatype."
   ]
  },
  {
   "cell_type": "code",
   "execution_count": 5,
   "id": "58414ed9",
   "metadata": {},
   "outputs": [
    {
     "data": {
      "text/plain": [
       "'I have eaten99burritos'"
      ]
     },
     "execution_count": 5,
     "metadata": {},
     "output_type": "execute_result"
    }
   ],
   "source": [
    "'I have eaten' + str(99) + 'burritos'\n"
   ]
  },
  {
   "cell_type": "code",
   "execution_count": null,
   "id": "181dcd59",
   "metadata": {},
   "outputs": [],
   "source": []
  }
 ],
 "metadata": {
  "kernelspec": {
   "display_name": "Python 3 (ipykernel)",
   "language": "python",
   "name": "python3"
  },
  "language_info": {
   "codemirror_mode": {
    "name": "ipython",
    "version": 3
   },
   "file_extension": ".py",
   "mimetype": "text/x-python",
   "name": "python",
   "nbconvert_exporter": "python",
   "pygments_lexer": "ipython3",
   "version": "3.9.13"
  }
 },
 "nbformat": 4,
 "nbformat_minor": 5
}
